{
 "cells": [
  {
   "cell_type": "code",
   "execution_count": 11,
   "metadata": {},
   "outputs": [],
   "source": [
    "from src.datasets.data_module import CloudCoverDataModule\n",
    "from pathlib import Path\n",
    "from src.models.deeplab import LightningDeeplab\n",
    "from src.models.unet import LightningUNet\n",
    "from src.training.trainer import train\n",
    "from src.testing.tester import test"
   ]
  },
  {
   "cell_type": "markdown",
   "metadata": {},
   "source": [
    "### Dataloader"
   ]
  },
  {
   "cell_type": "code",
   "execution_count": 12,
   "metadata": {},
   "outputs": [],
   "source": [
    "data_module = CloudCoverDataModule(\n",
    "    train_X_folder_path=Path(\"../data/final/public/train_features/\"),\n",
    "    train_y_folder_path=Path(\"../data/final/public/train_labels/\"),\n",
    "    test_X_folder_path=Path(\"../data/final/private/test_features/\"),\n",
    "    test_y_folder_path=Path(\"../data/final/private/test_labels/\"),\n",
    "    train_batch_size=4,\n",
    "    val_batch_size=8,\n",
    "    test_batch_size=8,\n",
    "    val_size=0.2,\n",
    "    random_state=42\n",
    ")"
   ]
  },
  {
   "cell_type": "code",
   "execution_count": 13,
   "metadata": {},
   "outputs": [],
   "source": [
    "data_module.prepare_data()"
   ]
  },
  {
   "cell_type": "code",
   "execution_count": 14,
   "metadata": {},
   "outputs": [],
   "source": [
    "data_module.setup(stage=\"fit\")\n",
    "data_module.setup(stage=\"test\")"
   ]
  },
  {
   "cell_type": "markdown",
   "metadata": {},
   "source": [
    "### Train"
   ]
  },
  {
   "cell_type": "code",
   "execution_count": null,
   "metadata": {},
   "outputs": [
    {
     "name": "stderr",
     "output_type": "stream",
     "text": [
      "GPU available: False, used: False\n",
      "TPU available: False, using: 0 TPU cores\n",
      "IPU available: False, using: 0 IPUs\n",
      "HPU available: False, using: 0 HPUs\n",
      "\n",
      "  | Name           | Type               | Params\n",
      "------------------------------------------------------\n",
      "0 | model          | DeepLabV3          | 18.1 M\n",
      "1 | train_jaccard  | BinaryJaccardIndex | 0     \n",
      "2 | train_accuracy | BinaryAccuracy     | 0     \n",
      "3 | val_jaccard    | BinaryJaccardIndex | 0     \n",
      "4 | val_accuracy   | BinaryAccuracy     | 0     \n",
      "5 | test_jaccard   | BinaryJaccardIndex | 0     \n",
      "6 | test_accuracy  | BinaryAccuracy     | 0     \n",
      "------------------------------------------------------\n",
      "18.1 M    Trainable params\n",
      "0         Non-trainable params\n",
      "18.1 M    Total params\n",
      "72.562    Total estimated model params size (MB)\n"
     ]
    },
    {
     "data": {
      "application/vnd.jupyter.widget-view+json": {
       "model_id": "d58bca7c753c432780c84be125d65522",
       "version_major": 2,
       "version_minor": 0
      },
      "text/plain": [
       "Sanity Checking: |                                                                               | 0/? [00:00<…"
      ]
     },
     "metadata": {},
     "output_type": "display_data"
    }
   ],
   "source": [
    "deeplab = train(\n",
    "    model=LightningDeeplab(n_channels=4, n_classes=2, bilinear=True, learning_rate=0.001),\n",
    "    run_name=\"deeplab\",\n",
    "    model_version=0,\n",
    "    data_module=data_module,\n",
    "    max_epochs=2,\n",
    "    patience=5\n",
    ")"
   ]
  },
  {
   "cell_type": "markdown",
   "metadata": {},
   "source": [
    "### Test  \n",
    "Replace the checkpoint path with the best checkpoint from the training."
   ]
  },
  {
   "cell_type": "code",
   "execution_count": 11,
   "metadata": {},
   "outputs": [],
   "source": [
    "#deeplab = LightningDeeplab.load_from_checkpoint(checkpoint_path='./logs/deeplab/version_0/checkpoints/deeplab-epoch=01-val_loss=0.67.ckpt', n_channels=4, n_classes=2)"
   ]
  },
  {
   "cell_type": "code",
   "execution_count": 12,
   "metadata": {},
   "outputs": [
    {
     "name": "stderr",
     "output_type": "stream",
     "text": [
      "GPU available: False, used: False\n",
      "TPU available: False, using: 0 TPU cores\n",
      "IPU available: False, using: 0 IPUs\n",
      "HPU available: False, using: 0 HPUs\n",
      "C:\\Users\\ultav\\AppData\\Local\\Programs\\Python\\Python311\\Lib\\site-packages\\pytorch_lightning\\trainer\\connectors\\data_connector.py:441: The 'test_dataloader' does not have many workers which may be a bottleneck. Consider increasing the value of the `num_workers` argument` to `num_workers=11` in the `DataLoader` to improve performance.\n"
     ]
    },
    {
     "data": {
      "application/vnd.jupyter.widget-view+json": {
       "model_id": "772982901b734536a6188b0f6e4dc553",
       "version_major": 2,
       "version_minor": 0
      },
      "text/plain": [
       "Testing: |                                                                                       | 0/? [00:00<…"
      ]
     },
     "metadata": {},
     "output_type": "display_data"
    },
    {
     "name": "stdout",
     "output_type": "stream",
     "text": [
      "────────────────────────────────────────────────────────────────────────────────────────────────────────────────────────\n",
      "       Test metric             DataLoader 0\n",
      "────────────────────────────────────────────────────────────────────────────────────────────────────────────────────────\n",
      "   test_accuracy_epoch      0.6116666197776794\n",
      "   test_jaccard_epoch       0.6116637587547302\n",
      "     test_loss_epoch         0.676939845085144\n",
      "────────────────────────────────────────────────────────────────────────────────────────────────────────────────────────\n"
     ]
    }
   ],
   "source": [
    "test(\n",
    "    model=deeplab,\n",
    "    run_name=\"deeplab\",\n",
    "    model_version=0,\n",
    "    data_module=data_module\n",
    ")"
   ]
  }
 ],
 "metadata": {
  "kernelspec": {
   "display_name": "Python 3 (ipykernel)",
   "language": "python",
   "name": "python3"
  },
  "language_info": {
   "codemirror_mode": {
    "name": "ipython",
    "version": 3
   },
   "file_extension": ".py",
   "mimetype": "text/x-python",
   "name": "python",
   "nbconvert_exporter": "python",
   "pygments_lexer": "ipython3",
   "version": "3.11.4"
  }
 },
 "nbformat": 4,
 "nbformat_minor": 4
}
