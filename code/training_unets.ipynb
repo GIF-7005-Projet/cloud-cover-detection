{
 "cells": [
  {
   "cell_type": "code",
   "execution_count": 1,
   "metadata": {},
   "outputs": [],
   "source": [
    "from src.datasets.data_module import CloudCoverDataModule\n",
    "from pathlib import Path\n",
    "from src.models.unet import LightningUNet\n",
    "from src.training.trainer import train\n",
    "from src.testing.tester import test"
   ]
  },
  {
   "cell_type": "markdown",
   "metadata": {},
   "source": [
    "### Dataloader"
   ]
  },
  {
   "cell_type": "code",
   "execution_count": 2,
   "metadata": {},
   "outputs": [],
   "source": [
    "data_module = CloudCoverDataModule(\n",
    "    train_X_folder_path=Path(\"../data/final/public/train_features/\"),\n",
    "    train_y_folder_path=Path(\"../data/final/public/train_labels/\"),\n",
    "    test_X_folder_path=Path(\"../data/final/private/test_features/\"),\n",
    "    test_y_folder_path=Path(\"../data/final/private/test_labels/\"),\n",
    "    train_batch_size=4,\n",
    "    val_batch_size=8,\n",
    "    test_batch_size=8,\n",
    "    val_size=0.2,\n",
    "    random_state=42\n",
    ")"
   ]
  },
  {
   "cell_type": "code",
   "execution_count": 3,
   "metadata": {},
   "outputs": [],
   "source": [
    "data_module.prepare_data()"
   ]
  },
  {
   "cell_type": "code",
   "execution_count": 4,
   "metadata": {},
   "outputs": [],
   "source": [
    "data_module.setup(stage=\"fit\")\n",
    "data_module.setup(stage=\"test\")"
   ]
  },
  {
   "cell_type": "markdown",
   "metadata": {},
   "source": [
    "### Train"
   ]
  },
  {
   "cell_type": "code",
   "execution_count": 5,
   "metadata": {},
   "outputs": [
    {
     "name": "stderr",
     "output_type": "stream",
     "text": [
      "GPU available: True (cuda), used: True\n",
      "TPU available: False, using: 0 TPU cores\n",
      "IPU available: False, using: 0 IPUs\n",
      "HPU available: False, using: 0 HPUs\n",
      "LOCAL_RANK: 0 - CUDA_VISIBLE_DEVICES: [0]\n",
      "\n",
      "   | Name           | Type               | Params\n",
      "-------------------------------------------------------\n",
      "0  | train_jaccard  | BinaryJaccardIndex | 0     \n",
      "1  | train_accuracy | BinaryAccuracy     | 0     \n",
      "2  | val_jaccard    | BinaryJaccardIndex | 0     \n",
      "3  | val_accuracy   | BinaryAccuracy     | 0     \n",
      "4  | test_jaccard   | BinaryJaccardIndex | 0     \n",
      "5  | test_accuracy  | BinaryAccuracy     | 0     \n",
      "6  | inc            | DoubleConv         | 39.6 K\n",
      "7  | down1          | Down               | 221 K \n",
      "8  | down2          | Down               | 886 K \n",
      "9  | down3          | Down               | 3.5 M \n",
      "10 | down4          | Down               | 4.7 M \n",
      "11 | up1            | Up                 | 5.9 M \n",
      "12 | up2            | Up                 | 1.5 M \n",
      "13 | up3            | Up                 | 369 K \n",
      "14 | up4            | Up                 | 110 K \n",
      "15 | outc           | OutConv            | 130   \n",
      "-------------------------------------------------------\n",
      "17.3 M    Trainable params\n",
      "0         Non-trainable params\n",
      "17.3 M    Total params\n",
      "69.072    Total estimated model params size (MB)\n"
     ]
    },
    {
     "name": "stdout",
     "output_type": "stream",
     "text": [
      "Sanity Checking: |          | 0/? [00:00<?, ?it/s]"
     ]
    },
    {
     "name": "stderr",
     "output_type": "stream",
     "text": [
      "/home/user/micromamba/envs/gif-7005-project/lib/python3.9/site-packages/pytorch_lightning/trainer/connectors/data_connector.py:441: The 'val_dataloader' does not have many workers which may be a bottleneck. Consider increasing the value of the `num_workers` argument` to `num_workers=23` in the `DataLoader` to improve performance.\n"
     ]
    },
    {
     "name": "stdout",
     "output_type": "stream",
     "text": [
      "Sanity Checking DataLoader 0:   0%|          | 0/2 [00:00<?, ?it/s]"
     ]
    },
    {
     "name": "stderr",
     "output_type": "stream",
     "text": [
      "/home/user/micromamba/envs/gif-7005-project/lib/python3.9/site-packages/torch/nn/modules/conv.py:456: UserWarning: Applied workaround for CuDNN issue, install nvrtc.so (Triggered internally at /opt/conda/conda-bld/pytorch_1695392022560/work/aten/src/ATen/native/cudnn/Conv_v8.cpp:80.)\n",
      "  return F.conv2d(input, weight, bias, self.stride,\n"
     ]
    },
    {
     "name": "stdout",
     "output_type": "stream",
     "text": [
      "                                                                           "
     ]
    },
    {
     "name": "stderr",
     "output_type": "stream",
     "text": [
      "/home/user/micromamba/envs/gif-7005-project/lib/python3.9/site-packages/pytorch_lightning/trainer/connectors/data_connector.py:441: The 'train_dataloader' does not have many workers which may be a bottleneck. Consider increasing the value of the `num_workers` argument` to `num_workers=23` in the `DataLoader` to improve performance.\n"
     ]
    },
    {
     "name": "stdout",
     "output_type": "stream",
     "text": [
      "Epoch 1:   3%|▎         | 76/2350 [00:44<22:05,  1.72it/s, v_num=1, train_loss_step=0.113, train_jaccard_step=0.937, train_accuracy_step=0.964, val_loss_step=0.510, val_jaccard_step=0.628, val_accuracy_step=0.786, val_loss_epoch=0.370, val_jaccard_epoch=0.791, val_accuracy_epoch=0.849, train_loss_epoch=0.380, train_jaccard_epoch=0.751, train_accuracy_epoch=0.840]  "
     ]
    },
    {
     "name": "stderr",
     "output_type": "stream",
     "text": [
      "/home/user/micromamba/envs/gif-7005-project/lib/python3.9/site-packages/pytorch_lightning/trainer/call.py:54: Detected KeyboardInterrupt, attempting graceful shutdown...\n"
     ]
    }
   ],
   "source": [
    "unet = train(\n",
    "    model=LightningUNet(n_channels=4, n_classes=2, bilinear=True, learning_rate=0.001),\n",
    "    run_name=\"unet\",\n",
    "    model_version=0,\n",
    "    data_module=data_module,\n",
    "    max_epochs=35,\n",
    "    patience=5\n",
    ")"
   ]
  },
  {
   "cell_type": "markdown",
   "metadata": {},
   "source": [
    "### Test  \n",
    "Replace the checkpoint path with the best checkpoint from the training."
   ]
  },
  {
   "cell_type": "code",
   "execution_count": 5,
   "metadata": {},
   "outputs": [],
   "source": [
    "unet = LightningUNet.load_from_checkpoint(checkpoint_path='./logs/unet/version_0/checkpoints/unet-epoch=07-val_loss=0.26.ckpt', n_channels=4, n_classes=2)"
   ]
  },
  {
   "cell_type": "code",
   "execution_count": 6,
   "metadata": {},
   "outputs": [
    {
     "name": "stderr",
     "output_type": "stream",
     "text": [
      "GPU available: True (cuda), used: True\n",
      "TPU available: False, using: 0 TPU cores\n",
      "IPU available: False, using: 0 IPUs\n",
      "HPU available: False, using: 0 HPUs\n",
      "LOCAL_RANK: 0 - CUDA_VISIBLE_DEVICES: [0]\n",
      "/home/user/micromamba/envs/gif-7005-project/lib/python3.9/site-packages/pytorch_lightning/trainer/connectors/data_connector.py:441: The 'test_dataloader' does not have many workers which may be a bottleneck. Consider increasing the value of the `num_workers` argument` to `num_workers=23` in the `DataLoader` to improve performance.\n"
     ]
    },
    {
     "name": "stdout",
     "output_type": "stream",
     "text": [
      "Testing DataLoader 0:   0%|          | 0/1373 [00:00<?, ?it/s]"
     ]
    },
    {
     "name": "stderr",
     "output_type": "stream",
     "text": [
      "/home/user/micromamba/envs/gif-7005-project/lib/python3.9/site-packages/torch/nn/modules/conv.py:456: UserWarning: Applied workaround for CuDNN issue, install nvrtc.so (Triggered internally at /opt/conda/conda-bld/pytorch_1695392022560/work/aten/src/ATen/native/cudnn/Conv_v8.cpp:80.)\n",
      "  return F.conv2d(input, weight, bias, self.stride,\n"
     ]
    },
    {
     "name": "stdout",
     "output_type": "stream",
     "text": [
      "Testing DataLoader 0: 100%|██████████| 1373/1373 [10:09<00:00,  2.25it/s]\n",
      "────────────────────────────────────────────────────────────────────────────────────────────────────────────────────────\n",
      "       Test metric             DataLoader 0\n",
      "────────────────────────────────────────────────────────────────────────────────────────────────────────────────────────\n",
      "   test_jaccard_epoch       0.8518288135528564\n",
      "     test_loss_epoch        0.27107203006744385\n",
      "────────────────────────────────────────────────────────────────────────────────────────────────────────────────────────\n"
     ]
    }
   ],
   "source": [
    "test(\n",
    "    model=unet,\n",
    "    run_name=\"unet\",\n",
    "    model_version=0,\n",
    "    data_module=data_module\n",
    ")"
   ]
  }
 ],
 "metadata": {
  "kernelspec": {
   "display_name": "Python 3 (ipykernel)",
   "language": "python",
   "name": "python3"
  },
  "language_info": {
   "codemirror_mode": {
    "name": "ipython",
    "version": 3
   },
   "file_extension": ".py",
   "mimetype": "text/x-python",
   "name": "python",
   "nbconvert_exporter": "python",
   "pygments_lexer": "ipython3",
   "version": "3.9.18"
  }
 },
 "nbformat": 4,
 "nbformat_minor": 4
}
