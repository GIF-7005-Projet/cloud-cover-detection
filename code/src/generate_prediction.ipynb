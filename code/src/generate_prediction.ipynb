{
 "cells": [
  {
   "cell_type": "code",
   "execution_count": null,
   "metadata": {},
   "outputs": [],
   "source": [
    "import numpy as np\n",
    "import torch\n",
    "import matplotlib.pyplot as plt\n",
    "from datasets.data_module import CloudCoverDataModule\n",
    "from pathlib import Path\n",
    "from models.segformer.lightning_module import LightningSegFormer"
   ]
  },
  {
   "cell_type": "code",
   "execution_count": null,
   "metadata": {},
   "outputs": [],
   "source": [
    "data_module = CloudCoverDataModule(\n",
    "    train_X_folder_path=Path(\"../../data/final/public/train_features/\"),\n",
    "    train_y_folder_path=Path(\"../../data/final/public/train_labels/\"),\n",
    "    test_X_folder_path=Path(\"../../data/final/private/test_features/\"),\n",
    "    test_y_folder_path=Path(\"../../data/final/private/test_labels/\"),\n",
    "    train_batch_size=4,\n",
    "    val_batch_size=3,\n",
    "    test_batch_size=3,\n",
    "    val_size=0.2,\n",
    "    random_state=42\n",
    ")\n",
    "\n",
    "data_module.prepare_data()\n",
    "\n",
    "data_module.setup(stage=\"test\")\n",
    "\n",
    "segformer = LightningSegFormer.load_from_checkpoint('segformer_b5-epoch=44-val_loss=0.21.ckpt')\n"
   ]
  },
  {
   "cell_type": "code",
   "execution_count": null,
   "metadata": {},
   "outputs": [],
   "source": [
    "def denormalize_to_rgb(\n",
    "    x: np.ndarray,\n",
    "    mean: list = [0.485, 0.456, 0.406, 0.3568],\n",
    "    std: list = [0.229, 0.224, 0.225, 0.2076],\n",
    "    min_val: int = 0,\n",
    "    max_val: int = 1\n",
    "):\n",
    "    mean = np.array(mean).reshape(1, -1, 1, 1)\n",
    "    std = np.array(std).reshape(1, -1, 1, 1)\n",
    "\n",
    "    x = (x * std) + mean\n",
    "    \n",
    "    x = x * (max_val - min_val) + min_val\n",
    "    \n",
    "    return np.array(x[:, :3, :, :] * 255, dtype=np.uint8)"
   ]
  },
  {
   "cell_type": "code",
   "execution_count": null,
   "metadata": {},
   "outputs": [],
   "source": [
    "def overlay_mask(img, mask, color=[255, 0, 0], alpha=0.5):\n",
    "    img = img.copy()\n",
    "    for c in range(3):\n",
    "        img[:, :, c] = np.where(mask == 1,\n",
    "                                img[:, :, c] * (1 - alpha) + alpha * color[c],\n",
    "                                img[:, :, c])\n",
    "    return img"
   ]
  },
  {
   "cell_type": "code",
   "execution_count": null,
   "metadata": {},
   "outputs": [],
   "source": [
    "def display_preds(X, y, y_hat):\n",
    "    torch.cuda.empty_cache()\n",
    "\n",
    "    for i in range(X.shape[0]):\n",
    "        img = X[i].transpose((1, 2, 0))\n",
    "\n",
    "        mask_pred = y_hat[i].astype(np.uint8)\n",
    "        mask_gt = y[i].astype(np.uint8)\n",
    "\n",
    "        overlayed_img_pred = overlay_mask(img, mask_pred, color=[255, 0, 0])\n",
    "        overlayed_img_gt = overlay_mask(img, mask_gt, color=[0, 255, 0])\n",
    "\n",
    "        plt.figure(figsize=(15, 5))\n",
    "\n",
    "        plt.subplot(1, 3, 1)\n",
    "        plt.imshow(img)\n",
    "        plt.title(\"Original Image\")\n",
    "        plt.axis('off')\n",
    "\n",
    "        plt.subplot(1, 3, 2)\n",
    "        plt.imshow(overlayed_img_pred)\n",
    "        plt.title(\"Prediction Overlay\")\n",
    "        plt.axis('off')\n",
    "\n",
    "        plt.subplot(1, 3, 3)\n",
    "        plt.imshow(overlayed_img_gt)\n",
    "        plt.title(\"Ground Truth Overlay\")\n",
    "        plt.axis('off')\n",
    "\n",
    "        plt.show()"
   ]
  },
  {
   "cell_type": "code",
   "execution_count": null,
   "metadata": {},
   "outputs": [],
   "source": [
    "MAX_BATCHES = 2"
   ]
  },
  {
   "cell_type": "code",
   "execution_count": null,
   "metadata": {},
   "outputs": [],
   "source": [
    "data_loader = data_module.test_dataloader()\n",
    "\n",
    "for i, (X, y) in enumerate(data_loader):\n",
    "    if i == MAX_BATCHES:\n",
    "        break\n",
    "    print(i)\n",
    "    X = X.to('cuda')\n",
    "    y = y.to('cuda')\n",
    "    \n",
    "    y_hat = segformer(X)\n",
    "    y_hat = y_hat.argmax(dim=1)\n",
    "    \n",
    "    y_hat =  y_hat.detach().cpu().numpy()\n",
    "    X = denormalize_to_rgb(X.detach().cpu().numpy())\n",
    "    y = y.detach().cpu().numpy()\n",
    "    \n",
    "    display_preds(X, y, y_hat)"
   ]
  }
 ],
 "metadata": {
  "kernelspec": {
   "display_name": "Python 3",
   "language": "python",
   "name": "python3"
  },
  "language_info": {
   "codemirror_mode": {
    "name": "ipython",
    "version": 3
   },
   "file_extension": ".py",
   "mimetype": "text/x-python",
   "name": "python",
   "nbconvert_exporter": "python",
   "pygments_lexer": "ipython3",
   "version": "3.9.18"
  }
 },
 "nbformat": 4,
 "nbformat_minor": 2
}
