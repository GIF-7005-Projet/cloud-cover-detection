{
 "cells": [
  {
   "cell_type": "code",
   "execution_count": 1,
   "metadata": {},
   "outputs": [],
   "source": [
    "from models.segformer.model_factory import (\n",
    "    create_b0_model,\n",
    "    create_b1_model,\n",
    "    create_b2_model,\n",
    "    create_b3_model,\n",
    "    create_b4_model,\n",
    "    create_b5_model,\n",
    ")\n",
    "from pytorch_lightning.utilities.model_summary import ModelSummary"
   ]
  },
  {
   "cell_type": "code",
   "execution_count": 2,
   "metadata": {},
   "outputs": [],
   "source": [
    "IMG_SIZE = 512\n",
    "NUM_CLASSES = 2\n",
    "IN_CHANNELS = 4\n",
    "LR = 6e-5"
   ]
  },
  {
   "cell_type": "code",
   "execution_count": 3,
   "metadata": {},
   "outputs": [
    {
     "name": "stdout",
     "output_type": "stream",
     "text": [
      "  | Name           | Type               | Params\n",
      "------------------------------------------------------\n",
      "0 | model          | SegFormer          | 3.7 M \n",
      "1 | train_jaccard  | BinaryJaccardIndex | 0     \n",
      "2 | train_accuracy | BinaryAccuracy     | 0     \n",
      "3 | val_jaccard    | BinaryJaccardIndex | 0     \n",
      "4 | val_accuracy   | BinaryAccuracy     | 0     \n",
      "5 | test_jaccard   | BinaryJaccardIndex | 0     \n",
      "6 | test_accuracy  | BinaryAccuracy     | 0     \n",
      "------------------------------------------------------\n",
      "3.7 M     Trainable params\n",
      "0         Non-trainable params\n",
      "3.7 M     Total params\n",
      "14.866    Total estimated model params size (MB)\n"
     ]
    }
   ],
   "source": [
    "model = create_b0_model(image_size=IMG_SIZE, num_classes=NUM_CLASSES, in_channels=IN_CHANNELS, learning_rate=LR)\n",
    "print(ModelSummary(model))"
   ]
  },
  {
   "cell_type": "code",
   "execution_count": 4,
   "metadata": {},
   "outputs": [
    {
     "name": "stdout",
     "output_type": "stream",
     "text": [
      "  | Name           | Type               | Params\n",
      "------------------------------------------------------\n",
      "0 | model          | SegFormer          | 13.7 M\n",
      "1 | train_jaccard  | BinaryJaccardIndex | 0     \n",
      "2 | train_accuracy | BinaryAccuracy     | 0     \n",
      "3 | val_jaccard    | BinaryJaccardIndex | 0     \n",
      "4 | val_accuracy   | BinaryAccuracy     | 0     \n",
      "5 | test_jaccard   | BinaryJaccardIndex | 0     \n",
      "6 | test_accuracy  | BinaryAccuracy     | 0     \n",
      "------------------------------------------------------\n",
      "13.7 M    Trainable params\n",
      "0         Non-trainable params\n",
      "13.7 M    Total params\n",
      "54.725    Total estimated model params size (MB)\n"
     ]
    }
   ],
   "source": [
    "model = create_b1_model(image_size=IMG_SIZE, num_classes=NUM_CLASSES, in_channels=IN_CHANNELS, learning_rate=LR)\n",
    "print(ModelSummary(model))"
   ]
  },
  {
   "cell_type": "code",
   "execution_count": 5,
   "metadata": {},
   "outputs": [
    {
     "name": "stdout",
     "output_type": "stream",
     "text": [
      "  | Name           | Type               | Params\n",
      "------------------------------------------------------\n",
      "0 | model          | SegFormer          | 26.9 M\n",
      "1 | train_jaccard  | BinaryJaccardIndex | 0     \n",
      "2 | train_accuracy | BinaryAccuracy     | 0     \n",
      "3 | val_jaccard    | BinaryJaccardIndex | 0     \n",
      "4 | val_accuracy   | BinaryAccuracy     | 0     \n",
      "5 | test_jaccard   | BinaryJaccardIndex | 0     \n",
      "6 | test_accuracy  | BinaryAccuracy     | 0     \n",
      "------------------------------------------------------\n",
      "26.9 M    Trainable params\n",
      "0         Non-trainable params\n",
      "26.9 M    Total params\n",
      "107.545   Total estimated model params size (MB)\n"
     ]
    }
   ],
   "source": [
    "model = create_b2_model(image_size=IMG_SIZE, num_classes=NUM_CLASSES, in_channels=IN_CHANNELS, learning_rate=LR)\n",
    "print(ModelSummary(model))"
   ]
  },
  {
   "cell_type": "code",
   "execution_count": 6,
   "metadata": {},
   "outputs": [
    {
     "name": "stdout",
     "output_type": "stream",
     "text": [
      "  | Name           | Type               | Params\n",
      "------------------------------------------------------\n",
      "0 | model          | SegFormer          | 46.8 M\n",
      "1 | train_jaccard  | BinaryJaccardIndex | 0     \n",
      "2 | train_accuracy | BinaryAccuracy     | 0     \n",
      "3 | val_jaccard    | BinaryJaccardIndex | 0     \n",
      "4 | val_accuracy   | BinaryAccuracy     | 0     \n",
      "5 | test_jaccard   | BinaryJaccardIndex | 0     \n",
      "6 | test_accuracy  | BinaryAccuracy     | 0     \n",
      "------------------------------------------------------\n",
      "46.8 M    Trainable params\n",
      "0         Non-trainable params\n",
      "46.8 M    Total params\n",
      "187.048   Total estimated model params size (MB)\n"
     ]
    }
   ],
   "source": [
    "model = create_b3_model(image_size=IMG_SIZE, num_classes=NUM_CLASSES, in_channels=IN_CHANNELS, learning_rate=LR)\n",
    "print(ModelSummary(model))"
   ]
  },
  {
   "cell_type": "code",
   "execution_count": 7,
   "metadata": {},
   "outputs": [
    {
     "name": "stdout",
     "output_type": "stream",
     "text": [
      "  | Name           | Type               | Params\n",
      "------------------------------------------------------\n",
      "0 | model          | SegFormer          | 64.0 M\n",
      "1 | train_jaccard  | BinaryJaccardIndex | 0     \n",
      "2 | train_accuracy | BinaryAccuracy     | 0     \n",
      "3 | val_jaccard    | BinaryJaccardIndex | 0     \n",
      "4 | val_accuracy   | BinaryAccuracy     | 0     \n",
      "5 | test_jaccard   | BinaryJaccardIndex | 0     \n",
      "6 | test_accuracy  | BinaryAccuracy     | 0     \n",
      "------------------------------------------------------\n",
      "64.0 M    Trainable params\n",
      "0         Non-trainable params\n",
      "64.0 M    Total params\n",
      "255.994   Total estimated model params size (MB)\n"
     ]
    }
   ],
   "source": [
    "model = create_b4_model(image_size=IMG_SIZE, num_classes=NUM_CLASSES, in_channels=IN_CHANNELS, learning_rate=LR)\n",
    "print(ModelSummary(model))"
   ]
  },
  {
   "cell_type": "code",
   "execution_count": 8,
   "metadata": {},
   "outputs": [
    {
     "name": "stdout",
     "output_type": "stream",
     "text": [
      "  | Name           | Type               | Params\n",
      "------------------------------------------------------\n",
      "0 | model          | SegFormer          | 84.6 M\n",
      "1 | train_jaccard  | BinaryJaccardIndex | 0     \n",
      "2 | train_accuracy | BinaryAccuracy     | 0     \n",
      "3 | val_jaccard    | BinaryJaccardIndex | 0     \n",
      "4 | val_accuracy   | BinaryAccuracy     | 0     \n",
      "5 | test_jaccard   | BinaryJaccardIndex | 0     \n",
      "6 | test_accuracy  | BinaryAccuracy     | 0     \n",
      "------------------------------------------------------\n",
      "84.6 M    Trainable params\n",
      "0         Non-trainable params\n",
      "84.6 M    Total params\n",
      "338.395   Total estimated model params size (MB)\n"
     ]
    }
   ],
   "source": [
    "model = create_b5_model(image_size=IMG_SIZE, num_classes=NUM_CLASSES, in_channels=IN_CHANNELS, learning_rate=LR)\n",
    "print(ModelSummary(model))"
   ]
  }
 ],
 "metadata": {
  "kernelspec": {
   "display_name": "Python 3",
   "language": "python",
   "name": "python3"
  },
  "language_info": {
   "codemirror_mode": {
    "name": "ipython",
    "version": 3
   },
   "file_extension": ".py",
   "mimetype": "text/x-python",
   "name": "python",
   "nbconvert_exporter": "python",
   "pygments_lexer": "ipython3",
   "version": "3.9.18"
  }
 },
 "nbformat": 4,
 "nbformat_minor": 2
}
